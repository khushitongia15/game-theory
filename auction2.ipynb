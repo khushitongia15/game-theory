{
  "nbformat": 4,
  "nbformat_minor": 0,
  "metadata": {
    "colab": {
      "provenance": []
    },
    "kernelspec": {
      "name": "python3",
      "display_name": "Python 3"
    },
    "language_info": {
      "name": "python"
    }
  },
  "cells": [
    {
      "cell_type": "code",
      "execution_count": 1,
      "metadata": {
        "id": "9SGxr3x-3rxw"
      },
      "outputs": [],
      "source": [
        "import numpy as np\n",
        "import pandas as pd"
      ]
    },
    {
      "cell_type": "code",
      "source": [
        "A = []\n",
        "B = []\n",
        "C = []\n",
        "\n",
        "A.append(np.random.randint(20, 100))\n",
        "B.append(np.random.randint(20, 100))\n",
        "C.append(np.random.randint(20, 100))"
      ],
      "metadata": {
        "id": "NV9Z2nLK3vXa"
      },
      "execution_count": 2,
      "outputs": []
    },
    {
      "cell_type": "code",
      "source": [
        "A"
      ],
      "metadata": {
        "colab": {
          "base_uri": "https://localhost:8080/"
        },
        "id": "BHRGDvs03xZ-",
        "outputId": "9fd83b1d-cb75-458d-8ed9-a9baf4b714cb"
      },
      "execution_count": 3,
      "outputs": [
        {
          "output_type": "execute_result",
          "data": {
            "text/plain": [
              "[25]"
            ]
          },
          "metadata": {},
          "execution_count": 3
        }
      ]
    },
    {
      "cell_type": "code",
      "source": [
        "B"
      ],
      "metadata": {
        "colab": {
          "base_uri": "https://localhost:8080/"
        },
        "id": "0O35sUef301e",
        "outputId": "a9bf4820-d2f3-4968-cfde-944ab062107d"
      },
      "execution_count": 4,
      "outputs": [
        {
          "output_type": "execute_result",
          "data": {
            "text/plain": [
              "[91]"
            ]
          },
          "metadata": {},
          "execution_count": 4
        }
      ]
    },
    {
      "cell_type": "code",
      "source": [
        "C"
      ],
      "metadata": {
        "colab": {
          "base_uri": "https://localhost:8080/"
        },
        "id": "2Q916t_634vI",
        "outputId": "9368e6ab-c829-4932-9981-b823026d82dd"
      },
      "execution_count": 5,
      "outputs": [
        {
          "output_type": "execute_result",
          "data": {
            "text/plain": [
              "[98]"
            ]
          },
          "metadata": {},
          "execution_count": 5
        }
      ]
    },
    {
      "cell_type": "code",
      "source": [
        "no_of_rounds = np.round(np.log2(96))\n",
        "\n",
        "no_of_rounds = int(no_of_rounds)\n",
        "\n",
        "no_of_rounds"
      ],
      "metadata": {
        "colab": {
          "base_uri": "https://localhost:8080/"
        },
        "id": "z8U5ooEv37W5",
        "outputId": "e066b391-e03f-4424-a132-c25cd2ec1371"
      },
      "execution_count": 6,
      "outputs": [
        {
          "output_type": "execute_result",
          "data": {
            "text/plain": [
              "7"
            ]
          },
          "metadata": {},
          "execution_count": 6
        }
      ]
    },
    {
      "cell_type": "code",
      "source": [
        "def generate_bid():\n",
        "    return np.random.randint(20, 100)\n",
        "\n",
        "for _ in range(no_of_rounds - 1):\n",
        "    A.append(generate_bid())\n",
        "    B.append(generate_bid())\n",
        "    C.append(generate_bid())"
      ],
      "metadata": {
        "id": "EG9OYpOE3_5n"
      },
      "execution_count": 7,
      "outputs": []
    },
    {
      "cell_type": "code",
      "source": [
        "print(A)"
      ],
      "metadata": {
        "colab": {
          "base_uri": "https://localhost:8080/"
        },
        "id": "3piezlJC4CQm",
        "outputId": "9bca4278-a419-4430-fc3f-e949cd29d0f6"
      },
      "execution_count": 8,
      "outputs": [
        {
          "output_type": "stream",
          "name": "stdout",
          "text": [
            "[25, 81, 84, 94, 22, 55, 27]\n"
          ]
        }
      ]
    },
    {
      "cell_type": "code",
      "source": [
        "print(B)"
      ],
      "metadata": {
        "colab": {
          "base_uri": "https://localhost:8080/"
        },
        "id": "8oNJ5ad_4E0f",
        "outputId": "462c77cd-9eca-42c9-f8e7-1844b7632f2d"
      },
      "execution_count": 9,
      "outputs": [
        {
          "output_type": "stream",
          "name": "stdout",
          "text": [
            "[91, 24, 49, 59, 77, 92, 23]\n"
          ]
        }
      ]
    },
    {
      "cell_type": "code",
      "source": [
        "print(C)"
      ],
      "metadata": {
        "colab": {
          "base_uri": "https://localhost:8080/"
        },
        "id": "La3ACscA4F8e",
        "outputId": "d02ddfbd-e368-4b0c-f802-707d52c75b97"
      },
      "execution_count": 10,
      "outputs": [
        {
          "output_type": "stream",
          "name": "stdout",
          "text": [
            "[98, 94, 56, 41, 52, 31, 23]\n"
          ]
        }
      ]
    }
  ]
}