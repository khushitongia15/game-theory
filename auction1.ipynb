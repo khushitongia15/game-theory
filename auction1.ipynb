{
  "nbformat": 4,
  "nbformat_minor": 0,
  "metadata": {
    "colab": {
      "provenance": []
    },
    "kernelspec": {
      "name": "python3",
      "display_name": "Python 3"
    },
    "language_info": {
      "name": "python"
    }
  },
  "cells": [
    {
      "cell_type": "code",
      "execution_count": 1,
      "metadata": {
        "id": "-44oWPMQ1kHG"
      },
      "outputs": [],
      "source": [
        "import numpy as np\n",
        "import pandas as pd\n"
      ]
    },
    {
      "cell_type": "code",
      "source": [
        "def generate_bids():\n",
        "    bid1 = np.random.randint(10, 100)\n",
        "    bid2 = np.random.randint(10, 100)\n",
        "    \n",
        "    return (bid1, bid2)"
      ],
      "metadata": {
        "id": "h8eZuHH81s5m"
      },
      "execution_count": 2,
      "outputs": []
    },
    {
      "cell_type": "code",
      "source": [
        "A = []\n",
        "B = []\n",
        "C = []\n",
        "\n",
        "for _ in range(10):\n",
        "    A.append(generate_bids())\n",
        "    B.append(generate_bids())\n",
        "    C.append(generate_bids())"
      ],
      "metadata": {
        "id": "tuXrNkbu1vU5"
      },
      "execution_count": 3,
      "outputs": []
    },
    {
      "cell_type": "code",
      "source": [
        "print(A)"
      ],
      "metadata": {
        "colab": {
          "base_uri": "https://localhost:8080/"
        },
        "id": "QyEmOQdc1yk4",
        "outputId": "93b53adc-d2bc-4b59-dd39-2cac973dfd8a"
      },
      "execution_count": 4,
      "outputs": [
        {
          "output_type": "stream",
          "name": "stdout",
          "text": [
            "[(34, 51), (97, 79), (65, 27), (84, 68), (53, 36), (95, 26), (61, 85), (27, 67), (37, 57), (72, 28)]\n"
          ]
        }
      ]
    },
    {
      "cell_type": "code",
      "source": [
        "print(B)"
      ],
      "metadata": {
        "colab": {
          "base_uri": "https://localhost:8080/"
        },
        "id": "-FsbN2gd11R8",
        "outputId": "bea82a6e-2250-46b3-cd2c-456c5a015fa9"
      },
      "execution_count": 5,
      "outputs": [
        {
          "output_type": "stream",
          "name": "stdout",
          "text": [
            "[(79, 52), (94, 47), (33, 31), (89, 39), (38, 28), (87, 88), (12, 83), (94, 82), (66, 23), (28, 40)]\n"
          ]
        }
      ]
    },
    {
      "cell_type": "code",
      "source": [
        "print(C)"
      ],
      "metadata": {
        "colab": {
          "base_uri": "https://localhost:8080/"
        },
        "id": "EkJC_gKk14XG",
        "outputId": "f23646c5-98cd-4463-9700-2d4a9325f525"
      },
      "execution_count": 6,
      "outputs": [
        {
          "output_type": "stream",
          "name": "stdout",
          "text": [
            "[(81, 48), (73, 66), (40, 83), (15, 43), (62, 49), (43, 89), (68, 10), (16, 16), (86, 13), (47, 47)]\n"
          ]
        }
      ]
    },
    {
      "cell_type": "code",
      "source": [
        "A_avg = []\n",
        "\n",
        "for i in range(10):\n",
        "    A_avg.append((A[i][0] + A[i][1])/2)\n",
        "    \n",
        "A_avg"
      ],
      "metadata": {
        "colab": {
          "base_uri": "https://localhost:8080/"
        },
        "id": "W7lhdijA18Zs",
        "outputId": "08c9c224-55fd-41bd-cfd7-d9c27dcc63cd"
      },
      "execution_count": 7,
      "outputs": [
        {
          "output_type": "execute_result",
          "data": {
            "text/plain": [
              "[42.5, 88.0, 46.0, 76.0, 44.5, 60.5, 73.0, 47.0, 47.0, 50.0]"
            ]
          },
          "metadata": {},
          "execution_count": 7
        }
      ]
    },
    {
      "cell_type": "code",
      "source": [
        "B_avg = []\n",
        "\n",
        "for i in range(10):\n",
        "    B_avg.append((B[i][0] + B[i][1])/2)\n",
        "    \n",
        "B_avg"
      ],
      "metadata": {
        "colab": {
          "base_uri": "https://localhost:8080/"
        },
        "id": "rTexDXr81-rG",
        "outputId": "4b36886a-2b58-4d58-eb6b-8f95f2766580"
      },
      "execution_count": 8,
      "outputs": [
        {
          "output_type": "execute_result",
          "data": {
            "text/plain": [
              "[65.5, 70.5, 32.0, 64.0, 33.0, 87.5, 47.5, 88.0, 44.5, 34.0]"
            ]
          },
          "metadata": {},
          "execution_count": 8
        }
      ]
    },
    {
      "cell_type": "code",
      "source": [
        "C_avg = []\n",
        "\n",
        "for i in range(10):\n",
        "    C_avg.append((C[i][0] + C[i][1])/2)\n",
        "    \n",
        "C_avg"
      ],
      "metadata": {
        "colab": {
          "base_uri": "https://localhost:8080/"
        },
        "id": "FU_wlLc72A-G",
        "outputId": "c220af2e-2c0a-46c3-8ade-2eace36c02d4"
      },
      "execution_count": 9,
      "outputs": [
        {
          "output_type": "execute_result",
          "data": {
            "text/plain": [
              "[64.5, 69.5, 61.5, 29.0, 55.5, 66.0, 39.0, 16.0, 49.5, 47.0]"
            ]
          },
          "metadata": {},
          "execution_count": 9
        }
      ]
    },
    {
      "cell_type": "code",
      "source": [
        "RMS = []\n",
        "\n",
        "for i in range(10):\n",
        "    x = 0\n",
        "    x += A[i][0]**2 + A[i][1]**2\n",
        "    x += B[i][0]**2 + B[i][1]**2\n",
        "    x += C[i][0]**2 + C[i][1]**2\n",
        "    x /= 6\n",
        "    x = np.sqrt(x)\n",
        "    RMS.append(x)\n",
        "    \n",
        "RMS = np.array(RMS)\n",
        "RMS = RMS.round(2)\n",
        "print(RMS)"
      ],
      "metadata": {
        "colab": {
          "base_uri": "https://localhost:8080/"
        },
        "id": "_g221Z7K2D5B",
        "outputId": "2b631940-8761-4448-f695-2a576482c041"
      },
      "execution_count": 10,
      "outputs": [
        {
          "output_type": "stream",
          "name": "stdout",
          "text": [
            "[59.95 77.87 50.82 62.18 45.79 76.14 61.51 59.57 53.34 46.13]\n"
          ]
        }
      ]
    },
    {
      "cell_type": "code",
      "source": [
        "differences = []\n",
        "\n",
        "for i in range(10):\n",
        "    this_round = []\n",
        "    \n",
        "    this_round.append(abs(A_avg[i] - RMS[i]))\n",
        "    this_round.append(abs(B_avg[i] - RMS[i]))\n",
        "    this_round.append(abs(C_avg[i] - RMS[i]))\n",
        "\n",
        "    differences.append(this_round)\n",
        "    \n",
        "print(pd.DataFrame(differences))"
      ],
      "metadata": {
        "colab": {
          "base_uri": "https://localhost:8080/"
        },
        "id": "b9nD1rN72Gcq",
        "outputId": "3f723e24-bd96-4c01-ad65-4ee80bf73ebf"
      },
      "execution_count": 11,
      "outputs": [
        {
          "output_type": "stream",
          "name": "stdout",
          "text": [
            "       0      1      2\n",
            "0  17.45   5.55   4.55\n",
            "1  10.13   7.37   8.37\n",
            "2   4.82  18.82  10.68\n",
            "3  13.82   1.82  33.18\n",
            "4   1.29  12.79   9.71\n",
            "5  15.64  11.36  10.14\n",
            "6  11.49  14.01  22.51\n",
            "7  12.57  28.43  43.57\n",
            "8   6.34   8.84   3.84\n",
            "9   3.87  12.13   0.87\n"
          ]
        }
      ]
    },
    {
      "cell_type": "code",
      "source": [
        "winning_diffs = []\n",
        "\n",
        "for i in range(10):\n",
        "    winning_diffs.append(np.amin(differences[i]))\n",
        "    \n",
        "winning_diffs = np.array(winning_diffs)\n",
        "winning_diffs = winning_diffs.round(2)\n",
        "\n",
        "print(winning_diffs)"
      ],
      "metadata": {
        "colab": {
          "base_uri": "https://localhost:8080/"
        },
        "id": "NbcjGuBC2KxN",
        "outputId": "a0f442ab-7b72-4496-bd5a-8cfa8dfb6210"
      },
      "execution_count": 12,
      "outputs": [
        {
          "output_type": "stream",
          "name": "stdout",
          "text": [
            "[ 4.55  7.37  4.82  1.82  1.29 10.14 11.49 12.57  3.84  0.87]\n"
          ]
        }
      ]
    }
  ]
}